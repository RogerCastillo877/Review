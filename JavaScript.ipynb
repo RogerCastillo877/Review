{
 "cells": [
  {
   "cell_type": "markdown",
   "id": "fe6b728d",
   "metadata": {},
   "source": [
    "# JavaScript\n",
    "\n",
    "## ¿Qué es?\n",
    "\n",
    "JavaScript (Netscape) es un lenguaje de programación que ha sido concebido para profesionales y todos los que se desenvuelven en el desarrollo de paginas web. Es un lenguaje que funciona del lado del cliente y servidor, por tanto, son los navegadores los que se ocupan de interpretar el lenguaje Javascript. Vale resaltar que JavaScript no es lo mismo que Java.\n",
    "\n",
    "## Diferencias entre Java y JavaScript\n",
    "\n",
    "+ **JavaScript** ha sido un lenguaje **interpretado**, y ``Java compilado``. Los programas de **JavaScript** son archivos de texto que se integra **directamente en las páginas HTML** y es interpretado (sin estar compilado) por el cliente (navegador), mientras que en ``Java se compilan`` a un archivo especial para que ser optimizados a un lenguaje intermedio llamado ``bytecode``, y leído posteriormente en un ordenador que lo ejecute.\n",
    "+ Java es un lenguaje de programación orientado a objetos puros (OOP), mientras que **JavaScript está basado en prototipos** y, puede emular la programación orientada a objetos.\n",
    "+ **JavaScript (lenguaje de secuencias de comandos) es gestionado por ECMAScript** (colección de pautas y reglas), una organización sin ánimo de lucro. En Java (lenguaje de scripting), el control lo tiene Oracle, una empresa privada que lo gestiona en función de sus intereses.\n",
    "+ **JavaScript se depura en una fase y Java en dos**. JavaScript hace que el código trabaje informando de los errores que se producen a medida que se ejecutando. Java, primero hace la **fase de compilación** y el compilador nos indica los posibles errores de sintaxis presentes en nuestro código. Después, se **ejecuta el programa**, donde pueden surgir errores para ser depurados.\n",
    "+ Java tiene variables definidas que no se pueden cambiar y es más complejo, **JavaScript puede ser cambiante**, dándole flexibilidad y es más sencillo.\n",
    "+ **JavaScript es débilmente tipado**, una misma variable puede contener primero un texto, luego un número, un array o un objeto. Esto, que parece una ventaja, también es fuente de posibles errores si no controlamos correctamente lo que ocurre en nuestro código. ``Java es fuertemente tipado``, todas las variables tienen un tipo determinado y, una vez definidas, no se pueden cambiar.\n",
    "\n",
    "## ¿Cuales son los tipos de datos JavaScript?\n",
    "\n",
    "+ ``String``\n",
    "+ ``Booleano:`` operador ‘And’ (&&), el operador’Or’ (||) y el operador ‘Not’ (!). Los operadores no llevan los paréntesis.\n",
    "+ ``Objeto``\n",
    "+ ``Número``\n",
    "+ ``Indefinido:`` La variable usada en el código no existe, la variable no está acreditada a ningún valor o la propiedad no existe. \n",
    "\n",
    "## ¿Cuáles son los dos grupos básicos de tipos de datos en JavaScript?\n",
    "\n",
    "+ Primitivos: Son el número y  tipos de datos booleanos.\n",
    "+ Tipos de referencia: son los tipos más complejos, como las string y las fechas.\n",
    "\n",
    "\n",
    "## ¿Qué significa NULL en Javascript?\n",
    "\n",
    "El valor (NULL) es utilizado para representar a ningún valor o ningún objeto. Esto quiere decir, que no representa a ningún objeto o cadena,  ni valor booleano, ni  número u objeto de un array.\n",
    "\n",
    "## ¿Cuál es la función del operador delete?\n",
    "\n",
    "La palabra clave (delete) es usada para eliminar la propiedad, así como su valor.\n",
    "\n",
    "## Entre JavaScript y un script ASP, ¿cuál es más rápido?\n",
    "\n",
    "JavaScript es más rápido porque es un lenguaje del lado del cliente y no necesita la ayuda del servidor web para ejecutarse. Por otra parte el ASP es un lenguaje del lado del servidor. Motivo por el que siempre es más lento que JavaScript. Sin embargo, Javascript ahora, también puede ser usado como un lenguaje de lado del servidor (server side) (nodejs).\n",
    "\n",
    "## ¿Qué es el infinito negativo?\n",
    "\n",
    "Infinito Negativo es un número en JavaScript que puede ser derivado, al dividir el número negativo entre cero.\n",
    "\n",
    "## ¿Es posible dividir el código JavaScript en varias líneas?\n",
    "\n",
    "Si, haciendo una declaracion string con el uso de una barra invertida (slash), ‘\\’, al terminar la primera línea\n",
    "\n",
    "``/* Con strings */\n",
    "var texto = 'Este es un texto\\\n",
    "de varias \\\n",
    "lineas'\n",
    "console.log(texto)  \n",
    "/* Salida por consola */\n",
    "Este es un texto de varias lineas  \n",
    "/* Con variables */\n",
    "var x=1, y=2,\n",
    "z=\n",
    "x+y;``\n",
    "\n",
    "En cuanto al código de ejemplo con las variables está muy bien, aunque no es recomendable porque puede que dificulte la depuración de errores.\n",
    "\n",
    "También se usa ``(//)`` para **comentarios de una sola línea** y para **comentarios multi-linea** se abre con ``(/*)`` y se cierra con ``(*/)``.\n",
    "\n",
    "## ¿Qué son los caracteres de escape?\n",
    "\n",
    "Los caracteres de escape (barra invertida) son utilizados para trabajar con caracteres especiales, entre ellos; comillas dobles, comillas simples, símbolos y apóstrofes. **Ejemplos**\n",
    "\n",
    "``document.write \"I m a \"good\" boy\"\n",
    "document.write \"I m a \\\"good\\\" boy\"``\n",
    "\n",
    "## ¿Cuál es el tipo de datos de variables en JavaScript?\n",
    "\n",
    "Todas las variables en JavaScript son del tipo objetos.\n",
    "\n",
    "## ¿Cómo se asignan las propiedades de los objetos?\n",
    "\n",
    "La asignación de propiedades a objetos se hace de la misma forma que se asigna un valor a una variable.  \n",
    "``Ejemplo: Document.form.action=”submit”``\n",
    "\n",
    "## ¿Qué son los objetos de pantalla?\n",
    "\n",
    "Los objetos de pantalla sirven para leer la información de la pantalla del cliente. Sus propiedades  son:\n",
    "\n",
    "- ``AvailHeight:`` Da la altura de la pantalla del cliente\n",
    "\n",
    "- ``AvailWidth:`` Da el ancho de la pantalla del cliente.\n",
    "\n",
    "- ``ColorDepth:`` suministra la profundidad de bits de las imágenes en la pantalla del cliente\n",
    "\n",
    "- ``Altura:`` Proporciona la altura general de la pantalla del cliente, incluye la barra de tareas.\n",
    "\n",
    "- ``Ancho:`` muestra el ancho total de la pantalla del cliente, incluye la barra de tareas.\n",
    "\n",
    "## ¿Qué son las variables no declaradas y no definidas?\n",
    "\n",
    "``Variables no declaradas:`` son las que no existen en un programa, y no se declaran. Si el programa trata de leer su valor entonces va a arrojar un error.\n",
    "\n",
    "``Variables no definidas:`` son aquellas declaradas en el programa, pero no tienen asignado ningún valor. Si el programa quiere leer el valor de  variable no definida, se devuelve un valor no definido.\n",
    "\n",
    "## ¿Qué es un cuadro de diálogo?\n",
    "\n",
    "Es un cuadro que permite al usuario **introducir datos**, mediante un cuadro de texto. La etiqueta y el cuadro se suministrarán para que se pueda ingresar el texto o el número.\n",
    "\n",
    "## ¿Cuál es la diferencia entre un cuadro de alerta y un cuadro de confirmación?\n",
    "\n",
    "El cuadro de alerta sólo muestra un botón, el botón OK.\n",
    "\n",
    "El cuadro de confirmación presenta dos botones: el de OK y Cancelar.\n",
    "\n",
    "## ¿Cuáles son todos los tipos de ventanas emergentes disponibles en JavaScript?\n",
    "\n",
    "Alerta (alert), Confirmar (confirm) y Entrada por teclado(prompt).  \n",
    "``alert('Esto es una alerta');``  \n",
    "``confirm('Esto es una ventana de confirmación con un mensaje', true);``  \n",
    "``prompt('Esto es una entrada por teclado, introduce cualquier valor:  ');`` \n",
    "\n",
    "\n",
    "## ¿Qué palabra clave se utiliza para mostrar un texto en pantalla?\n",
    "\n",
    "``document.write(“Bienvenido”)`` se usa para imprimir el texto – ‘Bienvenido’ en la pantalla.\n",
    "\n",
    "## ¿Qué significa la palabra clave 'this' en JavaScript?\n",
    "\n",
    "La palabra clave ``‘this’`` se refiere al objeto desde donde fue llamado, hace referencia al **contexto**, dependiendo de la parte de tu código en la que estés parado, el valor de this varía.\n",
    "\n",
    "## Explique el funcionamiento de los temporizadores en JavaScript y las desventajas de usarlos, si las hay.\n",
    "\n",
    "Los temporizadores se usan para ejecutar un fragmento de código en un momento determinado o para repetir el código en un espacio de tiempo señalado. Esto se hace utilizando las funciones **setTimeout**, **setInterval** y **clearInterval**,\n",
    "\n",
    "La función **setTimeout** (function, delay), es una funcion que se usa para iniciar un temporizador que llama a una funcion luego del retardo especificado. La función **setInterval** (function, delay) es utilizada para ejecutar repetidamente una función el el retardo (delay) que se especifique y solo se detiene cuando se cancela. La función **clearInterval**(id) es la que señala  al temporizador que se pare.\n",
    "\n",
    "Los temporizadores funcionan dentro de un hilo único, debido a esto,  los eventos pueden quedar ‘en cola’, a la espera de ser ejecutados.\n",
    "\n",
    "## ¿Cuál es la diferencia entre ViewState y SessionState?\n",
    "\n",
    "``‘ViewState’`` es muy específico para la página de una sesión.\n",
    "\n",
    "``‘SessionState’`` es específico para los datos del usuario, a los que se entra en las páginas de la aplicación web.\n",
    "\n",
    "## ¿Qué es el operador ===?\n",
    "\n",
    "El operador (===) es llamado operador de igualdad estricta, el cual arroja verdadero (true) cuando los dos operandos poseen el mismo valor sin ningún tipo de conversión.\n",
    "\n",
    "## Explica la diferencia entre '==' y '===='\n",
    "\n",
    "La diferencia es que ``(“==”)`` chequea solamente la igualdad de valor, pero ``(“====”)`` es la prueba de igualdad más estricta y además, devuelve falso si el tipo o el valor de las dos variables es distinto.\n",
    "\n",
    "## ¿Cómo se puede detectar el sistema operativo de la máquina del cliente?\n",
    "Es necesario usar la cadena ``navigator.platform``.\n",
    "\n",
    "## ¿Para qué sirve el operador typeof?\n",
    "``Typeof:`` es un operador que se usa para regresar una descripción de cadena del tipo de una variable.\n",
    "\n",
    "## ¿Para qué se utiliza Void (0)?\n",
    "Se usa **Void(0)** para prevenir que la página sea actualizada. También, se usa para llamar a otro método sin que se actualice la página.\n",
    "\n",
    "## ¿Qué son las cookies de JavaScript?\n",
    "\n",
    "Son archivos pequeños de prueba que se guardan en un ordenador y  se crean cuando el usuario visita los sitios web para guardar información  necesaria.\n",
    "\n",
    "En JavaScript, se puede crear una cookie utilizando un objeto ``document.cookie.`` Simplemente asígnele un valor de cadena que sea solo una serie de pares clave-valor separados por punto y coma.\n",
    "\n",
    "Ejemplo de creación de cookies de JavaScript:\n",
    "\n",
    "``document.cookie = \"username=Juan\"; expires=Wed, 03 Jul 2030 12:00:00 UTC; path=/;``\n",
    "\n",
    "## ¿Cómo se puede convertir un string de cualquier base a un entero en JavaScript?\n",
    "\n",
    "A través del uso de la función ``parseInt()``, ya que, esta función toma el string a convertir como primer parámetro, y como segundo parámetro usa la base del string dado.\n",
    "\n",
    "Para convertir 4F (de base 16) a entero, el código utilizado será:"
   ]
  },
  {
   "cell_type": "code",
   "execution_count": 14,
   "id": "9dc38712",
   "metadata": {},
   "outputs": [
    {
     "data": {
      "text/plain": [
       "79"
      ]
     },
     "execution_count": 14,
     "metadata": {},
     "output_type": "execute_result"
    }
   ],
   "source": [
    "parseInt(\"4F\", 16);"
   ]
  },
  {
   "cell_type": "markdown",
   "id": "e99ad4fe",
   "metadata": {},
   "source": [
    "## Cuál es la desventaja de usar innerHTML en JavaScript.\n",
    "\n",
    "Si se usa innerHTML en JavaScript la desventaja es:\n",
    "\n",
    "- Se reemplaza el contenido en todas partes\n",
    "\n",
    "- El contenido innerHTML es re-analizado y elaborado en elementos, lo que hace que sea mucho más lento.\n",
    "\n",
    "- El innerHTML no suministra validación, por lo tanto, potencialmente se puede insertar HTML válido y no válido en el documento y dañarlo.\n",
    "\n",
    "No se recomienda su uso porque es muy lento dado que refresca el contenido cada vez. Es más fácil insertar un código errado en el documento y hacer que la página web sea inestable.\n",
    "\n",
    "## ¿Cuál es la regla de las de las declaraciones break y continue?\n",
    "\n",
    "La declaración Break se usa para salir del bucle actual, mientras que  la sentencia continue continúa el bucle actual pero con nueva recurrencia.\n",
    "\n",
    "## Execution Context\n",
    "\n",
    "Son un par de ``cosas`` que el motor de Javascript me arma y me deja listas para usar, para facilitarme la vida. Entre esas cosas, están la variable global (si ejecutás tu código Javascript en un browser, ésta variable global es ``Window``), y la palabra reservada ``this``. Recordemos también que se crea un Execution Context diferente cada vez que se ejecuta una función. cuando crea el Execution Context (o contexto de ejecución), éste se hace en 2 partes: Fase de Creación y Fase de Ejecución.\n",
    "\n",
    "+ En la primera fase, la Fase de Creación del Execution Context, creamos todas las variables y funciones, PERO no las ejecutamos, de hecho al crearlas, por defecto, se le asigna la palabra reservada ‘undefined’.\n",
    "+  Objeto global: cuando ejecutás tu código Javascript en tu browser, este objeto es «window» y es un objeto que hace referencia a tu browser.\n",
    "  - this: es una palabra reservada que hace referencia al «lugar» donde estás parado. El valor de «this» va cambiando dependiendo del Execution Context en que te encuentres. Como dato, en el Execution Context Global (cuando inicia tu programa), «this» es igual al objeto global.\n",
    "  - Tus variables y funciones: en esta etapa también se reserva espacio en memoria para TODAS las variables y funciones de tu código.\n",
    "+ Recién en la etapa de ejecución es en donde se le asignan valores a nuestras variables, y se ejecuta nuestro código también.\n",
    "\n",
    "### Outer Environment\n",
    "\n",
    "Son las referencias a todo lo ``externo`` que tu función utiliza, como por ejemplo, variables externas.\n",
    "\n",
    "## Hoisting (izado)\n",
    "\n",
    "Es un concepto en JavaScript que nos permite usar variables y funciones incluso antes de que se declaren, es reservar espacio en memoria para todas tus variables. Esto se hace en la etapa de creación de tu Execution Context. Lo que hace el motor de Javascript es escanear todo tu código e ir buscando las declaraciones de todas tus variables; cuando encuentra una nueva variable reserva espacio en memoria y le asigna el valor ``undefined``. Undefined es un valor en Javascript que indica que la variable no fue inicializada.\n",
    "\n",
    "Es por eso que podemos **usar una variable que ha sido declarada más adelante en nuestro código** y que el valor que tiene es ``undefined``.\n",
    "\n",
    "Básicamente, cuando ejecutamos un código JavaScript, al principio extrae automáticamente todas las declaraciones de **variables y funciones** del código y las mueve a la **parte superior** de su alcance. Después de eso, comienza a ejecutar el código.\n",
    "\n",
    "La forma de evitar los **problemas Hoisting es definiendo tus variables al inicio de tu función**, o de tu **archivo principal**, si estás en el archivo principal. De esta forma, te aseguras que definís e inicializás tus variables antes de hacer cualquier otra cosa.\n",
    "\n",
    "## Stack (pila)\n",
    "\n",
    "Una pila es una estructura de datos en donde el último dato que entra es el primero que sale. Imagináte esos juegos de bebés donde hay un palito y vas ``apilando`` bloques de madera, para sacar el bloque de abajo de todo, tenés que sacar el que está arriba primero, y así sucesivamente hasta llegar al último. O sea, tenés que sacar el elemento que pusiste último para sacar el siguiente. En muchos lados lo vas ver por sus siglas en ingles LIFO (Last In, First Of) o ``el último en entrar es el primero en salir``.\n",
    "\n",
    "Bien la Stack (o pila) en el motor de JavaScript funciona de forma similar, pero en lugar de apilar bloques de madera, apilás ``Frames``. Un Frame es la ``información`` necesaria para ejecutar una función de Javascript. En esa ``información`` está la función a ejecutar, los argumentos de esa función y las variables locales de la función.\n",
    "\n",
    "## HEAP\n",
    "\n",
    "Es la **estructura en memoria**, dentro del motor de Javascript, donde se van **guardando los objetos** que se van creando.\n",
    "\n",
    "## Cola (Queue) o Cola de mensajes\n",
    "\n",
    "Así como está la Pila, como estructura de datos, existe también la Cola. La característica de la cola es que **el primero que llega a la cola es el primero en ser atendido**. Es como la cola de un banco, en donde la primera persona que llega a la fila (si nadie hace trampa y se cuela) es la primera persona en ser atendida. También se la conoce como **FIFO** por sus siglas en ingles (First in, First Out), ``el primero que entra es el primero que sale``\n",
    "\n",
    "Volvamos a la Queue  (o cola) de mensajes en nuestro motor de JavaScript, en esa Queue se guardan mensajes a ser procesados. Un mensaje puede ser generado por alguno de los siguientes Eventos:\n",
    "\n",
    "+ ``Eventos del browser:`` por ejemplo, clicks en un botón, teclear en el teclado, scrollear con la ruedita del mouse, etc.\n",
    "+ ``XHR:`` buscar un dato en un servidor remoto, por ejemplo un servicio REST.\n",
    "+ ``Timers:`` setTimeout(), setInterval()\n",
    "\n",
    "Y todos estos eventos tienen la característica de ser asincrónicos.  **Un mensaje asincrónico es un mensaje que se ejecuta en otro momento diferente al actual**, o dicho de otra forma, es un código que se ejecuta ``más tarde``. Es muy importante entender la diferencia entre los mensajes Asincrónicos y los Sincrónicos, ya que el entenderlos te dará la pauta de cuál es el orden de ejecución de tu código.\n",
    "\n",
    "## Loop de Eventos\n",
    "\n",
    "Es el mecanismo del motor de JavaScript encargado de manejar y ejecutar los mensajes (esos mensajes asincrónicos que se ejecutan más ``tarde``). Y básicamente lo que hace es tomar el primer elemento de la cola de mensajes, ejecutarlo y quedarse esperando a que llegue un mensaje nuevo, si es que no hay ninguno.\n",
    "\n",
    "## ¿Debemos utilizar JavaScript interno o externo?\n",
    "\n",
    "JavaScript **interno es más adecuado cuando solo necesitamos usarlo en una sola página web**. Considerando que, siempre use un archivo JavaScript externo para sitios web que tienen varias páginas web.\n",
    "\n",
    "## ¿Por qué los complementos de WordPress como Autoptimize agregan código JavaScript en un archivo?\n",
    "\n",
    "La agregación de código fuente JavaScript en un solo archivo reduce la cantidad de solicitudes realizadas al servidor mientras se genera una página web. A su vez, hace que un sitio web se cargue más rápido.\n",
    "\n",
    "Por ejemplo, digamos que hemos incluido diez archivos JavaScript en una página web. Ahora, cuando abrimos esta página web, nuestro navegador web envía diez solicitudes HTTP al servidor para recuperar estos archivos. Por otro lado, si agregamos el código de todos estos archivos en uno, solo necesitamos realizar una solicitud al servidor.\n",
    "\n",
    "## ¿Cuáles son algunas alternativas a Svelte?\n",
    "\n",
    "Svelte es un marco de desarrollo de front-end para el lenguaje de programación JavaScript. Algunas de sus alternativas populares incluyen:\n",
    "\n",
    "- React\n",
    "- Vue.js\n",
    "- Angular\n",
    "\n",
    "## ¿Puedes diferenciar entre ‘declaración de función’ y ‘expresión de función’?\n",
    "\n",
    "Básicamente, ``‘Declaración de función‘``  no es más que el proceso normal de definir una función usando la palabra clave function, su nombre único, parámetros y el cuerpo de la función. Mientras que, cuando asignamos una ``declaración de función`` a una variable , se convierte en ``‘Expresión de función’``. Es interesante notar que las expresiones de función no están elevadas, es decir, mostrarán un error si intenta llamarlas antes de definirlas.\n",
    "\n",
    "## ¿Cómo se utiliza DOM en JavaScript?\n",
    "\n",
    "**DOM (Modelo de objeto de documento)** es responsable de la manera en que varios objetos de un documento interactúan entre sí. DOM es necesario para el desarrollo o creación de páginas web que poseen objetos como: enlaces, párrafos, entre otros.\n",
    "\n",
    "Estos objetos pueden ser operados para incluir acciones como agregar o eliminar. DOM, es necesario también para agregar capacidades adicionales a una página web. Asimismo, el uso de API proporciona una ventaja sobre otros modelos existentes.\n",
    "\n",
    "## ¿Qué es “Emisión de eventos” y “Captura”?\n",
    "\n",
    "En JavaScript DOM, los elementos HTML se anidan unos dentro de otros para formar una jerarquía.\n",
    "\n",
    "Ahora, si tanto el elemento principal como el secundario han registrado un identificador para un evento específico, ¿cuál será el orden de propagación del evento?\n",
    "\n",
    "Puede determinarse de dos formas que se conocen como **propagación y captura de eventos**.\n",
    "\n",
    "En caso de ``propagación``, el elemento secundario capturará el evento primero y luego lo propagará a los elementos principales. Mientras que, en la ``captura de eventos``, el elemento padre capturará el evento primero y luego lo propagará a los elementos secundarios.\n",
    "\n",
    "## ¿Cómo se utilizan los manejadores de eventos en JavaScript?\n",
    "\n",
    "Los eventos son acciones que resultan de las actividades, como: **hacer clic** en un enlace o **rellenar un formulario** por parte del usuario. Es necesario un gestor de eventos para gestionar la ejecución de forma correcta de todos los eventos. El ``manejador de eventos son un atributo extra del objeto``. Este atributo tiene el nombre del evento y la acción tomada, si el evento ocurre.\n",
    "\n",
    "## Explique el papel de los scripts diferidos en JavaScript.\n",
    "\n",
    "Por defecto, el análisis del código HTML, mientras se carga la página se pausa hasta que el script no se haya dejado de ejecutar. Es decir, si el servidor es lento o el script es pesado, la página web se muestra con un retraso. Si se usa un script diferido (Deferred), se retarda la ejecución del script hasta el momento en que se ejecuta el analizador de HTML. Esto disminuye el tiempo de carga de las páginas web y se muestran más rápido al usuario.\n",
    "\n",
    "## ¿Para qué sirve el evento blur?\n",
    "\n",
    "El evento ``blur()`` se da cuando un elemento pierde el foco que obtuvo al ser clickado por el ratón o llegando por navegación tabular.\n",
    "\n",
    "Esta funcionalidad puede resultar interesante cuando se trabaja con formularios con numerosos input y elementos con los que el usuario tiene que trabajar."
   ]
  },
  {
   "cell_type": "code",
   "execution_count": null,
   "id": "c67fae8e",
   "metadata": {},
   "outputs": [],
   "source": [
    "// Código JavaScript\n",
    "\n",
    "var myForm = document.getElementById(\"form\");\n",
    "myForm.addEventListener(\"focus\", function (event) {\n",
    "    event.target.style.background = \"pink\";\n",
    "}, true);\n",
    "myForm.addEventListener(\"blur\", function (event) {\n",
    "    event.target.style.background = \"\";\n",
    "}, true);\n",
    "\n",
    "// Código HTML\n",
    "\n",
    "<form id=\"form\">\n",
    "    <input type=\"text\" placeholder=\"text input\">\n",
    "    <input type=\"password\" placeholder=\"password\">\n",
    "</form>"
   ]
  },
  {
   "cell_type": "markdown",
   "id": "4e2af7cc",
   "metadata": {},
   "source": [
    "## ¿Qué palabras clave se usan para manejar las excepciones?\n",
    "\n",
    "**Try, Catch y Finally** son las que se utilizan para manejar excepciones en lenguaje JavaScript\n",
    "\n",
    "``Try{\n",
    "  Code\n",
    "}\n",
    "Catch(exp){\n",
    "  Código para lanzar una excepción\n",
    "}\n",
    "Finally{\n",
    "El código se ejecuta o bien termina con éxito después del catch.\n",
    "}``\n",
    "\n",
    "## ¿Cuáles son los diferentes tipos de errores en JavaScript?\n",
    "\n",
    "Se pueden encontrar tres tipos de errores:\n",
    "\n",
    "- Errores de tiempo de carga: Son los errores que se originan al cargar una página web, como son los errores de sintaxis inadecuados, los cuales se conocen como errores de tiempo de carga y producen los errores dinámicamente. Estos errores se encuentran al usar la sintaxis de forma incorrecta, y por tanto, se detectan mientras la página se está cargando. Por **ejemplo**: los errores en el momento de la carga de la página, se cuentan como errores de tiempo de carga\n",
    "\n",
    "- Errores de tiempo de ejecución: Son los errores producidos motivado al mal uso del comando dentro del lenguaje HTML. Este error  aparece mientras el programa está en ejecución. Es causado por operaciones como por  **ejemplo**, división de un número por cero, o por intentar entrar a un área inexistente de la memoria.\n",
    "\n",
    "- Errores lógicos: Estos errores se producen debido a la mala lógica realizada en una función que tiene una operación distinta. son causados por el uso de un código correcto sintácticamente pero que no cumple con la tarea requerida, **ejemplo**, un bucle infinito.\n",
    "\n",
    "## ¿Qué es el modo 'Estricto' (Strict) en JavaScript y cómo se puede habilitar?\n",
    "\n",
    "El modo estricto ``(strict)`` en JavaScript muestra los errores de un fragmento de código que anteriormente no mostraba ningún error. Pero que puede ser problemático e inseguro. En este modo también, se resuelven varios errores que dificultan la función eficiente de los motores de JavaScript.\n",
    "\n",
    "El modo estricto puede ser activado agregando la cadena ``“use strict”`` sobre el archivo. Esto se puede mostrar con el siguiente ejemplo:"
   ]
  },
  {
   "cell_type": "code",
   "execution_count": 21,
   "id": "80076861",
   "metadata": {},
   "outputs": [],
   "source": [
    "function myfunction() {\n",
    "    \"use strict\";\n",
    "    var v = \"Esta es una función de modo estricto\";\n",
    "}"
   ]
  },
  {
   "cell_type": "markdown",
   "id": "2f2d8b08",
   "metadata": {},
   "source": [
    "## Métodos\n",
    "\n",
    "``.push()`` agrega un elemento al final del array  \n",
    "``.pop()`` retira el elemento del final del array y lo muestra aparte  \n",
    "``.shift()`` retira el primer elemento del array  \n",
    "``.unshift()`` agrega un elemento al inicio del array "
   ]
  },
  {
   "cell_type": "code",
   "execution_count": 7,
   "id": "504bda8c",
   "metadata": {},
   "outputs": [
    {
     "name": "stdout",
     "output_type": "stream",
     "text": [
      "[ 1, 2, 3, 4 ]\n",
      "[ 'Stimpson', 'J', 'cat', [ 'happy', 'joy' ] ]\n"
     ]
    }
   ],
   "source": [
    "// Ejemplo Push\n",
    "var arr1 = [1,2,3];\n",
    "arr1.push(4);\n",
    "\n",
    "var arr2 = [\"Stimpson\", \"J\", \"cat\"];\n",
    "arr2.push([\"happy\", \"joy\"]);\n",
    "\n",
    "console.log(arr1);\n",
    "console.log(arr2);"
   ]
  },
  {
   "cell_type": "code",
   "execution_count": 1,
   "id": "6eacaa5a",
   "metadata": {},
   "outputs": [
    {
     "name": "stdout",
     "output_type": "stream",
     "text": [
      "6\n",
      "[ 1, 4 ]\n"
     ]
    }
   ],
   "source": [
    "// Ejemplo Pop\n",
    "var threeArr = [1, 4, 6];\n",
    "var oneDown = threeArr.pop();\n",
    "console.log(oneDown);\n",
    "console.log(threeArr);"
   ]
  },
  {
   "cell_type": "code",
   "execution_count": 4,
   "id": "73cb5039",
   "metadata": {},
   "outputs": [
    {
     "name": "stdout",
     "output_type": "stream",
     "text": [
      "Stimpson\n"
     ]
    }
   ],
   "source": [
    "// Ejemplo Shift\n",
    "var ourArray = [\"Stimpson\", \"J\", [\"cat\"]];\n",
    "var removedFromOurArray = ourArray.shift();\n",
    "console.log(removedFromOurArray);"
   ]
  },
  {
   "cell_type": "code",
   "execution_count": 6,
   "id": "afda5457",
   "metadata": {},
   "outputs": [
    {
     "name": "stdout",
     "output_type": "stream",
     "text": [
      "[ 'Happy', 'J', 'cat' ]\n"
     ]
    }
   ],
   "source": [
    "// Ejemplo Unshift\n",
    "var ourArray = [\"Stimpson\", \"J\", \"cat\"];\n",
    "ourArray.shift();\n",
    "ourArray.unshift(\"Happy\");\n",
    "console.log(ourArray);"
   ]
  },
  {
   "cell_type": "markdown",
   "id": "4d2b3bc6",
   "metadata": {},
   "source": [
    "## Funciones\n",
    "\n",
    "Se utilizan para dividir el código y hacerlo reutilizable.\n",
    "\n",
    "### Componentes Funcionales\n",
    "\n",
    "**Funciones de primera clase**: Las funciones de JavaScript se usan como objetos de primera clase. Esto significa que las funciones, se pueden pasar como argumentos a otras funciones, devueltas como valores de otras funciones, asignadas a variables o  pueden ser guardadas en estructuradas de datos.\n",
    "\n",
    "**Funciones anidadas**: Son las funciones, que se definen dentro de otras funciones. Se llaman 'cada vez que' se nombra la función principal.\n",
    "\n",
    "### Función isNaN\n",
    "\n",
    "La función isNan devuelve verdadero si el argumento no es un número porque de lo contrario arrojaría un falso.\n",
    "\n",
    "La función isNaN es de alto nivel y no está asociada a ningún objeto. ntenta convertir el parámetro pasado a un número. Si el parámetro no se puede convertir, devuelve true; en caso contrario, devuelve false. Esta función es útil ya que el valor NaN no puede se probado correctamente con operadores de igualdad. x == NaN y x === NaN son siempre false, sin importar lo que sea x, incluso si x es NaN. Por ejemplo, tanto 1 == NaN como NaN == NaN devuelven false.\n",
    "\n",
    "### callback\n",
    "\n",
    "Un callback es una función (callback) que la pasás a otra función (miFuncion) como parámetro. El callback se ejecuta cuando la “miFuncion” finalice.\n",
    "\n",
    "### ¿Qué es IIFE y para qué sirve?\n",
    "\n",
    "IIFE significa Immediately Invoke Function Expression, es el patrón para modular en ECMAScript 5 o ES5, o sea la forma en que se conoce al Javascript viejo y básicamente lo que hace es crear una función y ejecutarla al mismo tiempo.\n",
    "Existen dos formas de crear una función:\n",
    "\n",
    "``function miFuncion() {}``\n",
    "\n",
    "Esta forma es llamada function statement.\n",
    "Y luego, la forma:\n",
    "\n",
    "``var miFuncion = function() {}``\n",
    "\n",
    "Esta otra forma se llama Function Expression (FE).\n",
    "Si a ésta forma le sacamos la asignación a la variable miFuncion y la ejecutamos,\n",
    "tenemos lo siguiente:\n",
    "\n",
    "``(function() {\n",
    "      /* tu codigo */\n",
    "  })();``\n",
    "\n",
    "Esto es lo que se conoce como IIFE, ya que es una Function Expression\n",
    "invocada/ejecutada inmediatamente.\n",
    "Esto se hace para crear variables que están sólo dentro del contexto de esa IIFE ya que,\n",
    "las variables que se crean dentro de una función (si no hacemos nada raro), sólo tienen\n",
    "el scope de esa función.\n",
    "\n",
    "### Funciones autoinvocadas\n",
    "\n",
    "Las funciones de autoinvocación son un poco diferentes de las funciones normales porque se ejecutan inmediatamente donde fueron declaradas.\n",
    "\n",
    "Normalmente, primero declaramos una función y luego simplemente la llamamos. Sin embargo, JavaScript ejecuta automáticamente el código de las funciones de autoinvocación en tiempo de ejecución.\n",
    "\n",
    "Un punto a destacar es que estas funciones no tienen nombre. A su vez, no podemos recordar este tipo de funciones. También se conocen como “funciones anónimas”."
   ]
  },
  {
   "cell_type": "code",
   "execution_count": 12,
   "id": "61287530",
   "metadata": {},
   "outputs": [
    {
     "name": "stdout",
     "output_type": "stream",
     "text": [
      "Hello World\n"
     ]
    }
   ],
   "source": [
    "// Función\n",
    "function functionName() {\n",
    "  console.log(\"Hello World\");\n",
    "}\n",
    "functionName();"
   ]
  },
  {
   "cell_type": "code",
   "execution_count": 13,
   "id": "b676dc75",
   "metadata": {},
   "outputs": [
    {
     "name": "stdout",
     "output_type": "stream",
     "text": [
      "Hello World\n"
     ]
    }
   ],
   "source": [
    "// Función con parámetros\n",
    "function testFun(param1, param2) {\n",
    "  console.log(param1, param2);\n",
    "}\n",
    "\n",
    "testFun(\"Hello\", \"World\");"
   ]
  },
  {
   "cell_type": "code",
   "execution_count": 16,
   "id": "1ace9367",
   "metadata": {},
   "outputs": [
    {
     "name": "stdout",
     "output_type": "stream",
     "text": [
      "Soy anónimo\n"
     ]
    }
   ],
   "source": [
    "// Función Anónima (se declara sin ningún identificador nombrado. Es inaccesible después de su declaración.)\n",
    "var anon = function() {\n",
    "  //alert('Soy anónimo'); // Cuando esta en el navegador\n",
    "  console.log('Soy anónimo'); // Prueba en este archivo\n",
    "};\n",
    "anon();"
   ]
  },
  {
   "cell_type": "markdown",
   "id": "5e9d3319",
   "metadata": {},
   "source": [
    "## ¿Qué es una promesa en Javascript?\n",
    "\n",
    "Una promesa es un objeto que representa la terminación o error de un evento asincrónico. Un evento asincrónico es “algo” que sucede en otro momento distinto al que estamos ejecutando nuestro código. Si bien las promesas se pueden crear con un\n",
    "constructor, es más común usarlas.\n",
    "\n",
    "La forma de usarlas es la siguiente:\n",
    "\n",
    "``miPromesa.then(function() {\n",
    " //codigo a ejecutar despues de que la promesa finalice\n",
    "})``\n",
    "\n",
    "Este código lo que hace ejecutar el código que está en el método “then”, una vez que la promesa “miPromesa” haya finalizado correctamente.\n",
    "\n",
    "## Scope\n",
    "\n",
    "**Var** tienen un alcance a nivel del Execution Context. Ya sea el Execution Context la función donde se crean, o el Execution Context Global, o sea, la función principal. Esto es tan así, que no importa en qué lugar se declare una variable, su scope será el mismo.\n",
    "\n",
    "**Let** permite declarar variables limitando su alcance (scope) al bloque, declaración, o expresión donde se está usando, con let se evitan errores de scope difíciles de detectar.\n",
    "\n",
    "**Const** es una palabra reservada que declara un valor que no se puede modificar una vez definido, y además su scope es de bloque, permite declarar variables limitando su alcance (scope) al bloque, declaración, o expresión donde se está usando y además no permite que la referencia a una variable sea modificada. Cabe aclarar que no significa que el valor sea inmutable, sino su referencia, o sea, no se puede reasignar una variable pero sí se podrá cambiar su contenido, como es el caso de los objetos.\n",
    "\n",
    "### Variables Globales\n",
    "\n",
    "+ Cuando nos «olvidamos» de definir una variable dentro de una función usando **var**, **let** o **const**.\n",
    "+ Haciendo una asignación múltiple en una misma línea."
   ]
  },
  {
   "cell_type": "code",
   "execution_count": 17,
   "id": "b096c5fd",
   "metadata": {},
   "outputs": [
    {
     "name": "stdout",
     "output_type": "stream",
     "text": [
      "Adentro\n"
     ]
    }
   ],
   "source": [
    "(function() {\n",
    "    var a=b='Adentro';\n",
    "})();\n",
    "\n",
    "console.log(b)"
   ]
  },
  {
   "cell_type": "markdown",
   "id": "282e7fbb",
   "metadata": {},
   "source": [
    "## closures\n",
    "\n",
    "es una función definida dentro de otra función (llamada función principal) y tiene acceso a las variables que se declaran y definen en el alcance de la función principal. Es un mecanismo que tiene el lenguaje para «extender» el scope de ciertas variables dentro de un Execution Context.\n",
    "\n",
    "tiene acceso a variables en tres ámbitos:\n",
    "\n",
    "+ Variables declaradas en su propio alcance\n",
    "+ Variables declaradas en un alcance de función padre\n",
    "+ Variables declaradas en el espacio de nombres global\n",
    "\n",
    "innerFunction es el cierre que se define dentro de outerFunction y tiene acceso a todas las variables declaradas y definidas en el ámbito outerFunction . Además, la función definida dentro de otra función como cierre tendrá acceso a las variables declaradas en el global namespace "
   ]
  },
  {
   "cell_type": "code",
   "execution_count": null,
   "id": "45d78284",
   "metadata": {},
   "outputs": [],
   "source": [
    "var globalVar = \"abc\";\n",
    "// Parent self invoking function\n",
    "(function outerFunction (outerArg) { // begin of scope outerFunction\n",
    "    // Variable declared in outerFunction function scope\n",
    "    var outerFuncVar = 'x';   \n",
    "    // Closure self-invoking function\n",
    "    (function innerFunction (innerArg) { // begin of scope innerFunction\n",
    "        // variable declared in innerFunction function scope\n",
    "        var innerFuncVar = \"y\";\n",
    "        console.log(         \n",
    "            \"outerArg = \" + outerArg + \"\\n\" +\n",
    "            \"outerFuncVar = \" + outerFuncVar + \"\\n\" +\n",
    "            \"innerArg = \" + innerArg + \"\\n\" +\n",
    "            \"innerFuncVar = \" + innerFuncVar + \"\\n\" +\n",
    "            \"globalVar = \" + globalVar);\n",
    "    }// end of scope innerFunction)(5); // Pass 5 as parameter\n",
    "}// end of scope outerFunction )(7); // Pass 7 as parameter"
   ]
  },
  {
   "cell_type": "markdown",
   "id": "b425d274",
   "metadata": {},
   "source": [
    "## Condicional if"
   ]
  },
  {
   "cell_type": "code",
   "execution_count": 4,
   "id": "a09ce1c1",
   "metadata": {},
   "outputs": [
    {
     "data": {
      "text/plain": [
       "'It was true'"
      ]
     },
     "execution_count": 4,
     "metadata": {},
     "output_type": "execute_result"
    }
   ],
   "source": [
    "function test (myCondition) {\n",
    "  if (myCondition) {\n",
    "     return \"It was true\";\n",
    "  }\n",
    "  return \"It was false\";\n",
    "}\n",
    "test(true);\n",
    "// test(false);"
   ]
  },
  {
   "cell_type": "markdown",
   "id": "dc8b9613",
   "metadata": {},
   "source": [
    "## Switch"
   ]
  },
  {
   "cell_type": "code",
   "execution_count": 6,
   "id": "69e7a91a",
   "metadata": {},
   "outputs": [
    {
     "data": {
      "text/plain": [
       "'alpha'"
      ]
     },
     "execution_count": 6,
     "metadata": {},
     "output_type": "execute_result"
    }
   ],
   "source": [
    "function caseInSwitch(val) {\n",
    "  var answer = \"\";\n",
    "  switch(val){\n",
    "    case 1:\n",
    "      answer = \"alpha\";\n",
    "      break;\n",
    "    case 2:\n",
    "      answer = \"beta\";\n",
    "      break;\n",
    "    case 3:\n",
    "      answer = \"gamma\";\n",
    "      break;\n",
    "    case 4:\n",
    "      answer = \"delta\";\n",
    "      break;\n",
    "  }\n",
    "  return answer;\n",
    "}\n",
    "\n",
    "caseInSwitch(1); // probar con 2, 3 o 4"
   ]
  },
  {
   "cell_type": "code",
   "execution_count": 8,
   "id": "8feec803",
   "metadata": {},
   "outputs": [
    {
     "data": {
      "text/plain": [
       "'apple'"
      ]
     },
     "execution_count": 8,
     "metadata": {},
     "output_type": "execute_result"
    }
   ],
   "source": [
    "// Con valore por defecto\n",
    "\n",
    "function switchOfStuff(val) {\n",
    "  var answer = \"\";\n",
    "  switch(val){\n",
    "    case \"a\":\n",
    "      answer = \"apple\";\n",
    "      break;\n",
    "    case \"b\":\n",
    "      answer = \"bird\";\n",
    "      break;\n",
    "    case \"c\":\n",
    "      answer = \"cat\";\n",
    "      break;\n",
    "    default:\n",
    "      return \"stuff\";    \n",
    "  }\n",
    "  return answer;\n",
    "}\n",
    "\n",
    "switchOfStuff(1); // Probar con \"a\", \"b\" o \"c\""
   ]
  },
  {
   "cell_type": "markdown",
   "id": "ba94e74c",
   "metadata": {},
   "source": [
    "## Objetos"
   ]
  },
  {
   "cell_type": "code",
   "execution_count": 10,
   "id": "a76b368c",
   "metadata": {},
   "outputs": [
    {
     "name": "stdout",
     "output_type": "stream",
     "text": [
      "ballcap\n",
      "jersey\n",
      "ballcap\n",
      "jersey\n",
      "ballcap\n"
     ]
    }
   ],
   "source": [
    "// Setup\n",
    "var testObj = {\n",
    "  \"hat\": \"ballcap\",\n",
    "  \"shirt\": \"jersey\",\n",
    "  \"shoes\": \"cleats\"\n",
    "};\n",
    "\n",
    "// Accediendo a las propiedades con Dot Notation\n",
    "var hatValue = testObj.hat; \n",
    "var shirtValue = testObj.shirt;\n",
    "\n",
    "// Accediendo a las propiedades con Bracket Notation\n",
    "var hatValue1 = testObj[\"hat\"]; \n",
    "var shoesValue = testObj[\"shoes\"];\n",
    "\n",
    "// Accediendo a las propiedades con variables\n",
    "var myHat = \"hat\";\n",
    "var outFit = testObj[\"hat\"];\n",
    "\n",
    "console.log(hatValue);\n",
    "console.log(shirtValue);\n",
    "console.log(hatValue1);\n",
    "console.log(shirtValue1);\n",
    "console.log(outFit);"
   ]
  },
  {
   "cell_type": "code",
   "execution_count": 14,
   "id": "1baba61c",
   "metadata": {},
   "outputs": [
    {
     "name": "stdout",
     "output_type": "stream",
     "text": [
      "{ hat: 'cap', shirt: 'jersey', shoes: 'cleats', belt: true }\n"
     ]
    }
   ],
   "source": [
    "// Modificando propiedades\n",
    "testObj.hat = \"cap\";\n",
    "\n",
    "// Agregando propiedades\n",
    "testObj.belt = true;\n",
    "\n",
    "// Borrando una propiedad\n",
    "delete testObj.shoes;\n",
    "\n",
    "console.log(testObj);"
   ]
  },
  {
   "cell_type": "code",
   "execution_count": 15,
   "id": "2984cbd5",
   "metadata": {},
   "outputs": [
    {
     "data": {
      "text/plain": [
       "''"
      ]
     },
     "execution_count": 15,
     "metadata": {},
     "output_type": "execute_result"
    }
   ],
   "source": [
    "function phoneticLookup(val) {\n",
    "  var result = \"\";\n",
    "\n",
    "  // Only change code below this line\n",
    "  var lookup = {\n",
    "    alpha: \"Adams\",\n",
    "    bravo: \"Boston\",\n",
    "    charlie: \"Chicago\",\n",
    "    delta: \"Denver\",\n",
    "    echo:\"Easy\",\n",
    "    foxtrot: \"Frank\"\n",
    "  }\n",
    "\n",
    "  // Only change code above this line\n",
    "  return result;\n",
    "}\n",
    "\n",
    "phoneticLookup(\"charlie\");"
   ]
  },
  {
   "cell_type": "markdown",
   "id": "776263d1",
   "metadata": {},
   "source": [
    "### Testear objetos por propiedades\n",
    "\n",
    "El método ``.hasOwnProperty(propname)`` prueba si el objeto tiene la propiedad y devuelve ``true``, en caso contrario si no la encuentra devuelve ``false``. "
   ]
  },
  {
   "cell_type": "code",
   "execution_count": 17,
   "id": "d877b4d1",
   "metadata": {},
   "outputs": [
    {
     "data": {
      "text/plain": [
       "'pony'"
      ]
     },
     "execution_count": 17,
     "metadata": {},
     "output_type": "execute_result"
    }
   ],
   "source": [
    "function checkObj(obj, checkProp) {\n",
    "  // Only change code below this line\n",
    "  if (obj.hasOwnProperty(checkProp)){\n",
    "    return obj[checkProp];\n",
    "  } else {\n",
    "    return \"Not Found\"\n",
    "  }\n",
    "  return \"Change Me!\";\n",
    "  // Only change code above this line\n",
    "}\n",
    "\n",
    "checkObj({gift: \"pony\", pet: \"kitten\", bed: \"sleigh\"}, \"gift\"); // Probar\n",
    "// checkObj({city: \"Seattle\"}, \"district\"); // Probar"
   ]
  },
  {
   "cell_type": "code",
   "execution_count": 19,
   "id": "139c7301",
   "metadata": {},
   "outputs": [
    {
     "data": {
      "text/plain": [
       "'secrets'"
      ]
     },
     "execution_count": 19,
     "metadata": {},
     "output_type": "execute_result"
    }
   ],
   "source": [
    "// Accediendo a objetos anidados\n",
    "var ourStorage = {\n",
    "  \"desk\": {\n",
    "    \"drawer\": \"stapler\"\n",
    "  },\n",
    "  \"cabinet\": {\n",
    "    \"top drawer\": { \n",
    "      \"folder1\": \"a file\",\n",
    "      \"folder2\": \"secrets\"\n",
    "    },\n",
    "    \"bottom drawer\": \"soda\"\n",
    "  }\n",
    "};\n",
    "\n",
    "ourStorage.cabinet[\"top drawer\"].folder2; // Probar\n",
    "//ourStorage.desk.drawer; // Probar"
   ]
  },
  {
   "cell_type": "code",
   "execution_count": null,
   "id": "2d81e1e8",
   "metadata": {},
   "outputs": [],
   "source": [
    "// Exercise\n",
    "\n",
    "/*\n",
    "You are given an object literal representing a part of your musical album collection. Each album has a unique id number as its key and several other properties. Not all albums have complete information.\n",
    "\n",
    "You start with an updateRecords function that takes an object literal, records, containing the musical album collection, an id, a prop (like artist or tracks), and a value. Complete the function using the rules below to modify the object passed to the function.\n",
    "\n",
    "Your function must always return the entire record collection object.\n",
    "  If prop isn't tracks and value isn't an empty string, update or set that album's prop to value.\n",
    "  If prop is tracks but the album doesn't have a tracks property, create an empty array and add value to it.\n",
    "  If prop is tracks and value isn't an empty string, add value to the end of the album's existing tracks array.\n",
    "  If value is an empty string, delete the given prop property from the album.\n",
    "Note: A copy of the recordCollection object is used for the tests.\n",
    "*/\n",
    "// Setup\n",
    "var recordCollection = {\n",
    "  2548: {\n",
    "    albumTitle: 'Slippery When Wet',\n",
    "    artist: 'Bon Jovi',\n",
    "    tracks: ['Let It Rock', 'You Give Love a Bad Name']\n",
    "  },\n",
    "  2468: {\n",
    "    albumTitle: '1999',\n",
    "    artist: 'Prince',\n",
    "    tracks: ['1999', 'Little Red Corvette']\n",
    "  },\n",
    "  1245: {\n",
    "    artist: 'Robert Palmer',\n",
    "    tracks: []\n",
    "  },\n",
    "  5439: {\n",
    "    albumTitle: 'ABBA Gold'\n",
    "  }\n",
    "};\n",
    "\n",
    "// Only change code below this line\n",
    "function updateRecords(records, id, prop, value) {\n",
    "  return records;\n",
    "}\n",
    "\n",
    "updateRecords(recordCollection, 5439, 'artist', 'ABBA');\n",
    "// artist should be the string ABBA\n",
    "console.log(recordCollection[5439][\"artist\"]);\n",
    "\n",
    "// updateRecords(recordCollection, 5439, \"tracks\", \"Take a Chance on Me\");\n",
    "// updateRecords(recordCollection, 2548, \"artist\", \"\");\n",
    "// updateRecords(recordCollection, 1245, \"tracks\", \"Addicted to Love\");\n",
    "// updateRecords(recordCollection, 2468, \"tracks\", \"Free\");\n",
    "// updateRecords(recordCollection, 2548, \"tracks\", \"\");\n",
    "// updateRecords(recordCollection, 1245, \"albumTitle\", \"Riptide\");"
   ]
  },
  {
   "cell_type": "markdown",
   "id": "54a83d62",
   "metadata": {},
   "source": [
    "## Ciclos\n",
    "\n",
    "Las estructuras de bucles en Javascript son:\n",
    "\n",
    "- For\n",
    "- While\n",
    "- Do-While\n",
    "- forEach\n",
    "\n",
    "### Ciclo While\n",
    "\n",
    "Puede ejecuatar el código multiples veces, y se llama así porque el ciclo continua hasta que la condición se cumpla"
   ]
  },
  {
   "cell_type": "code",
   "execution_count": 4,
   "id": "55af77e5",
   "metadata": {},
   "outputs": [
    {
     "name": "stdout",
     "output_type": "stream",
     "text": [
      "[ 5, 4, 3, 2, 1, 0 ]\n"
     ]
    }
   ],
   "source": [
    "var myArray = [];\n",
    "var i = 5;\n",
    "while(i >= 0) {\n",
    "  myArray.push(i);\n",
    "  i--;\n",
    "}\n",
    "console.log(myArray);"
   ]
  },
  {
   "cell_type": "markdown",
   "id": "4bab0cd0",
   "metadata": {},
   "source": [
    "### Ciclo For\n",
    "\n",
    "La manera de escrbir este ciclo es ``for(a; b; c)``, donde ``a`` es la declaración de inicialización, ``b`` es la declaración de condición y ``c`` es la expresión final.  \n",
    "\n",
    "El bucle for-in está diseñado específicamente para recorrer todas las propiedades del objeto paso a paso. Selecciona una propiedad del objeto en cada iteración y realiza las operaciones necesarias en él."
   ]
  },
  {
   "cell_type": "code",
   "execution_count": 5,
   "id": "692128f1",
   "metadata": {},
   "outputs": [
    {
     "name": "stdout",
     "output_type": "stream",
     "text": [
      "name=>Juan\n",
      "country=>Germany\n",
      "website=>livecodestream.dev\n"
     ]
    }
   ],
   "source": [
    "var user = {\n",
    "    \"name\": \"Juan\",\n",
    "    \"country\": \"Germany\",\n",
    "    \"website\": \"livecodestream.dev\"\n",
    "}\n",
    "\n",
    "for(var key in user){\n",
    "    if(user.hasOwnProperty(key)){\n",
    "        console.log(key + \"=>\" + user[key]);\n",
    "    }\n",
    "}"
   ]
  },
  {
   "cell_type": "code",
   "execution_count": 6,
   "id": "6e08cef3",
   "metadata": {},
   "outputs": [
    {
     "data": {
      "text/plain": [
       "5040"
      ]
     },
     "execution_count": 6,
     "metadata": {},
     "output_type": "execute_result"
    }
   ],
   "source": [
    "// Con arrrays multidimensionales\n",
    "\n",
    "function multiplyAll(arr) {\n",
    "  var product = 1;\n",
    "  // Only change code below this line\n",
    "  for (var i = 0; i < arr.length; i++){\n",
    "    for (var j=0; j < arr[i].length; j++){\n",
    "      product *= arr[i][j];\n",
    "    }\n",
    "  }\n",
    "  // Only change code above this line\n",
    "  return product;\n",
    "}\n",
    "\n",
    "multiplyAll([[1,2],[3,4],[5,6,7]]);"
   ]
  },
  {
   "cell_type": "markdown",
   "id": "26c07f02",
   "metadata": {},
   "source": [
    "### Ciclo Do While\n",
    "\n",
    "Ejecuta una acción antes de entrar al ciclo"
   ]
  },
  {
   "cell_type": "code",
   "execution_count": 7,
   "id": "820505d4",
   "metadata": {},
   "outputs": [
    {
     "data": {
      "text/plain": [
       "10"
      ]
     },
     "execution_count": 7,
     "metadata": {},
     "output_type": "execute_result"
    }
   ],
   "source": [
    "var myArray = [];\n",
    "var i = 10;\n",
    "\n",
    "do {\n",
    "  myArray.push(i);\n",
    "  i++;\n",
    "} while (i < 5);"
   ]
  },
  {
   "cell_type": "markdown",
   "id": "128ba149",
   "metadata": {},
   "source": [
    "### Función recursiva\n",
    "\n",
    "Consiste en funciones que se llaman a sí mismas, evitando el uso de bucles y otros iteradores. Por ejemplo el factorial de un número."
   ]
  },
  {
   "cell_type": "code",
   "execution_count": null,
   "id": "c79daf4e",
   "metadata": {},
   "outputs": [],
   "source": [
    "// Función con bucle\n",
    "function factorial(n){\n",
    "  var res = 1;\n",
    "  for(var i=n; i>=1; i--){\n",
    "    res = res * i;\n",
    "  }\n",
    "  return res;\n",
    "}\n",
    "\n",
    "// Función recursiva\n",
    "function factorial(n) {\n",
    "    if (n<=1) return 1;\n",
    "    return n* factorial(n-1);\n",
    "}"
   ]
  },
  {
   "cell_type": "code",
   "execution_count": 11,
   "id": "f35832b1",
   "metadata": {},
   "outputs": [
    {
     "name": "stdout",
     "output_type": "stream",
     "text": [
      "9\n"
     ]
    }
   ],
   "source": [
    "// la función toma los primeros números \"n\" del array y los suma\n",
    "function sum(arr, n) {\n",
    "  if (n <= 0){\n",
    "    return 0;\n",
    "  } else {\n",
    "    return sum(arr, n -1) + arr[n-1];\n",
    "  }\n",
    "}\n",
    "\n",
    "console.log(sum([2, 3, 4, 5], 3)); // Probar sum([2, 3, 4], 1)"
   ]
  },
  {
   "cell_type": "markdown",
   "id": "05b5b154",
   "metadata": {},
   "source": [
    "### Uso de operador condicional (terciario)"
   ]
  },
  {
   "cell_type": "code",
   "execution_count": 16,
   "id": "ce581111",
   "metadata": {},
   "outputs": [
    {
     "data": {
      "text/plain": [
       "'b is greater'"
      ]
     },
     "execution_count": 16,
     "metadata": {},
     "output_type": "execute_result"
    }
   ],
   "source": [
    "function findGreater(a, b) {\n",
    "  if(a > b) {\n",
    "    return \"a is greater\";\n",
    "  }\n",
    "  else {\n",
    "    return \"b is greater\";\n",
    "  }\n",
    "}\n",
    "findGreater(2,3);"
   ]
  },
  {
   "cell_type": "code",
   "execution_count": 13,
   "id": "2356cc79",
   "metadata": {},
   "outputs": [
    {
     "data": {
      "text/plain": [
       "'b is greater'"
      ]
     },
     "execution_count": 13,
     "metadata": {},
     "output_type": "execute_result"
    }
   ],
   "source": [
    "function findGreater(a, b) {\n",
    "  return a > b ? \"a is greater\" : \"b is greater\";\n",
    "}\n",
    "\n",
    "findGreater(2,3);"
   ]
  },
  {
   "cell_type": "code",
   "execution_count": 17,
   "id": "603214b4",
   "metadata": {},
   "outputs": [
    {
     "data": {
      "text/plain": [
       "'a and b are equal'"
      ]
     },
     "execution_count": 17,
     "metadata": {},
     "output_type": "execute_result"
    }
   ],
   "source": [
    "// Multiples operadores condicionales\n",
    "\n",
    "function findGreaterOrEqual(a, b) {\n",
    "  return (a === b) ? \"a and b are equal\" \n",
    "    : (a > b) ? \"a is greater\" \n",
    "    : \"b is greater\";\n",
    "}\n",
    "\n",
    "findGreaterOrEqual(2,2);"
   ]
  },
  {
   "cell_type": "code",
   "execution_count": 23,
   "id": "d518f3e5",
   "metadata": {},
   "outputs": [
    {
     "name": "stdout",
     "output_type": "stream",
     "text": [
      "[ 5, 4, 3, 2, 1 ]\n",
      "[ 6, 5, 4, 3, 2, 1 ]\n",
      "[ 4, 3, 2, 1 ]\n",
      "[ 3, 2, 1 ]\n"
     ]
    }
   ],
   "source": [
    "// Ejemplos\n",
    "// Función recursiva con unshift\n",
    "function countdown1(n) {\n",
    "  if (n < 1) {\n",
    "    return [];\n",
    "  } else {\n",
    "    const arr = countdown1(n - 1);\n",
    "    arr.unshift(n);\n",
    "    return arr;\n",
    "  }\n",
    "}\n",
    "\n",
    "// Función recursiva con splice\n",
    "function countdown2(n) {\n",
    "  if (n < 1) {\n",
    "    return [];\n",
    "  } else {\n",
    "    const arr = countdown2(n - 1);\n",
    "    arr.splice(0, 0, n);\n",
    "    return arr;\n",
    "  }\n",
    "}\n",
    "\n",
    "// Función recursiva con Operador terciario\n",
    "function countdown3(n){\n",
    "   return n < 1 ? [] : [n].concat(countdown3(n - 1));\n",
    "}\n",
    "\n",
    "//\n",
    "function countdown4(n){\n",
    "   return n < 1 ? [] : [n, ...countdown4(n - 1)];\n",
    "}\n",
    "\n",
    "console.log(countdown1(5));\n",
    "console.log(countdown2(6));\n",
    "console.log(countdown3(4));\n",
    "console.log(countdown4(3));"
   ]
  },
  {
   "cell_type": "markdown",
   "id": "1930ac49",
   "metadata": {},
   "source": [
    "## ¿A qué se le llama tipificación de variables (variable typing) en Javascript?\n",
    "\n",
    "La tipificación de variables se usa para asignar un número a una variable, y esta misma variable se puede asignar a un string.\n",
    "\n",
    "``i = 10;\n",
    "i = \"cadena\";``\n",
    "\n",
    "El ejemplo representa la tipificación de variables.\n",
    "\n",
    "## ¿Cuál es la forma de obtener el estado de un CheckBox?\n",
    "\n",
    "El status se puede adquirir de la siguiente forma.\n",
    "\n",
    "alert(document.getElementById('checkbox1').checked);\n",
    "\n",
    "Si la casilla de verificación está marcada, esta alerta devolverá ‘True’.\n",
    "\n",
    "## Explica cómo leer y escribir un archivo usando JavaScript.\n",
    "\n",
    "Hay dos formas de leer y escribir un archivo usando JavaScript:\n",
    "\n",
    "- Utilizando extensiones JavaScript.\n",
    "- A través de una página web y objetos ActiveX.\n",
    "\n",
    "## Enviar un formulario usando JavaScript\n",
    "\n",
    "``document.form[0].submit();``\n",
    "\n",
    "## Defina el burbujeo de eventos (Event Bubbling)\n",
    "\n",
    "JavaScript permite que los elementos DOM estén anidados uno dentro del otro. Es decir, si se hace clic en el controlador del hijo (child handler), el controlador del parent (parent handler) va a funcionar como si también se hubiera hecho clic en el de él.\n",
    "\n",
    "## ¿Cómo se puede seleccionar un frame en particular desde un hipervínculo en JavaScript?\n",
    "\n",
    "Se puede hacer introduciendo el nombre del frame requerido en el hipervínculo y usando el atributo ‘target’.\n",
    "\n",
    "``<a href=\"/nueva.htm\" target=\"newframe\">>Nueva Página </a>``\n",
    "\n",
    "## ¿Cual es la diferencia entre un web-garden y una web-farm?\n",
    "\n",
    "web-garden y web-farm son sistemas de alojamiento web. La única diferencia es que web-garden es una configuración que tiene muchos procesadores en un solo servidor, mientras que web-farm es una configuración más grande, por lo tanto, utiliza más de un servidor.\n",
    "\n",
    "## ¿Cuál es el método para leer y escribir un archivo en JavaScript?\n",
    "\n",
    "Se puede hacer utilizando extensiones JavaScript (se ejecuta desde el editor JavaScript).\n",
    "\n",
    "Ejemplo, para abrir un archivo.\n",
    "\n",
    "fh = fopen(getScriptPath(), 0);\n",
    "\n",
    "\n",
    "## Defina las funciones escape() y unescape()\n",
    "\n",
    "- La función **escape()** es la responsable de codificar un string para hacer el pase de información de un ordenador hacia el otro, a través de una red. **Ejemplo**:\n",
    "\n",
    "``<script>\n",
    "document.write(escape (\"Hola? Como estas tu?\"));\n",
    "</script>>``\n",
    "\n",
    "Salida: Hola%3F%20Como%20estas%20tu%21\n",
    "\n",
    "- La función **unescape()** es  importante  porque es la que decodifica la cadena codificada.\n",
    "\n",
    "``<script>\n",
    "document.write(escape (\"Hola? Como estas tu?\"));\n",
    "</script>>``\n",
    "\n",
    "Salida: Hola%3F%20Como%20estas%20tu%21\n",
    "\n",
    "## ¿Qué hace decodeURI() y encodeURI()?\n",
    "\n",
    "EncodeURl(): es utilizado para convertir URL a su codificación hexadecimal.  DecodeURI() se utiliza para convertir la URL\n",
    "\n",
    "``<script>\n",
    "  var uri=\"my test.asp?name=ståle&car=saab\";\n",
    "  document.write(encodeURI(uri)+ \"<br>\");\n",
    "  document.write(decodeURI(uri));\n",
    "</script>``\n",
    "\n",
    "## ¿Qué es el namespacing en JavaScript y cómo se utiliza?\n",
    "\n",
    "Namespacing se utiliza para **agrupar funciones, variables, etc con un nombre único**.  Esto mejora la modularidad en codificación y permite la reutilización del código.\n",
    "\n",
    "## ¿Cómo se pueden ocultar los códigos JavaScript de los navegadores antiguos que no soportan JavaScript?\n",
    "\n",
    "Para ocultar códigos JavaScript de navegadores antiguos con este código:\n",
    "\n",
    "``Añada \"<!--\" sin las comillas en el código justo después de la etiqueta <script>.\n",
    "Añada \"//-->>\" sin las comillas en el código justo antes de la etiqueta <script>.``\n",
    "    \n",
    "Ahora los navegadores antiguos verán este código JavaScript como un comentario HTML. Mientras que, un navegador que soporte JavaScript, tomará los “<!–” y “//—->” como comentarios de una línea.\n",
    "\n",
    "## Código para añadir nuevos elementos dinámicamente"
   ]
  },
  {
   "cell_type": "code",
   "execution_count": null,
   "id": "0cecc55c",
   "metadata": {},
   "outputs": [],
   "source": [
    "<html>\n",
    "<head>\n",
    "    <title> Añadiendo elementos de forma dinámica con nodos de texto </title>\n",
    "</head>\n",
    "<body>\n",
    "    <div id=\"nodo-texto\"></div>\n",
    "    <script type=\"application/javascript\">\n",
    "        var elemento = document.createElement(\"H1\") // Creamos un elemento del tipo h1\n",
    "        var texto = document.createTextNode(\"Este es un texto creado a través de un nodo de texto\"); // Creamos un texto con un nodo de texto\n",
    "        elemento.appendChild(texto); // Agregamos el nodo de texto al elemento\n",
    "        document.getElementById('nodo-texto').appendChild(elemento) // Para podemos mostrarlo en el DOM lo seleccionamos el div donde lo queremos introducir y le pasamos como hijo el h1\n",
    "    </script>\n",
    "</body>\n",
    "</html>"
   ]
  }
 ],
 "metadata": {
  "kernelspec": {
   "display_name": "Javascript (Node.js)",
   "language": "javascript",
   "name": "javascript"
  },
  "language_info": {
   "file_extension": ".js",
   "mimetype": "application/javascript",
   "name": "javascript",
   "version": "14.16.0"
  }
 },
 "nbformat": 4,
 "nbformat_minor": 5
}
